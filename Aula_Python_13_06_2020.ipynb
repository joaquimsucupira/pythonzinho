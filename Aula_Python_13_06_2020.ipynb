{
  "nbformat": 4,
  "nbformat_minor": 0,
  "metadata": {
    "kernelspec": {
      "display_name": "Python 3",
      "language": "python",
      "name": "python3"
    },
    "language_info": {
      "codemirror_mode": {
        "name": "ipython",
        "version": 3
      },
      "file_extension": ".py",
      "mimetype": "text/x-python",
      "name": "python",
      "nbconvert_exporter": "python",
      "pygments_lexer": "ipython3",
      "version": "3.7.4"
    },
    "colab": {
      "name": "Aula Python 13_06_2020.ipynb",
      "provenance": [],
      "collapsed_sections": [
        "sr2f5Uj1knwZ",
        "E_UEEqHkknxg",
        "nCthHNtskny2",
        "n_8YEXIdkn0U",
        "qP6pZGFzkn3M",
        "7RobUcFBkn4H",
        "o0XBkalskn47",
        "Mj0tvOREkn5Q",
        "D1o6ZxMYkn6E",
        "qebsWO6Qkn7L",
        "TEm_0C5-kn8W",
        "d6WQxKqRkn9j",
        "lvlfz5fUkn-R",
        "Bhn4i2Qlkn_d",
        "OQziHyYBkoDK",
        "gkW1p_GOkoEz",
        "FwhY0XWgkoFM",
        "IP48I_2HkoFh",
        "63C9-1qJkoHu"
      ]
    }
  },
  "cells": [
    {
      "cell_type": "markdown",
      "metadata": {
        "id": "fDIFQmw_knsB",
        "colab_type": "text"
      },
      "source": [
        "# Aula 13/06/2020 - Python\n",
        "### Prof. Rodrigo Sucupira / [sucupira.rodrigo@gmail.com](mailto:sucupira.rodrigo@gmail.com) \n",
        "\n",
        "## [GitHub Pythonzinho](https://github.com/rsucupira/Pythonzinho) / [www.pythonzinho.com.br](http://www.pythonzinho.com.br)"
      ]
    },
    {
      "cell_type": "markdown",
      "metadata": {
        "id": "l5x0bLSwknsL",
        "colab_type": "text"
      },
      "source": [
        "- Aluno: (Joaquim Sucupira) / (email do aluno)\n",
        "- [GitHub](https://github.com/joaquimsucupira)"
      ]
    },
    {
      "cell_type": "markdown",
      "metadata": {
        "id": "X03QMTWaknsU",
        "colab_type": "text"
      },
      "source": [
        "### 01) Operações Básicas / Calculadora\n",
        "#### 01.1) Adição              (+)"
      ]
    },
    {
      "cell_type": "code",
      "metadata": {
        "id": "Gb1byZSkknsc",
        "colab_type": "code",
        "colab": {
          "base_uri": "https://localhost:8080/",
          "height": 34
        },
        "outputId": "5bbab1cd-7ad2-4820-a18d-e402d00b999e"
      },
      "source": [
        "1+2"
      ],
      "execution_count": null,
      "outputs": [
        {
          "output_type": "execute_result",
          "data": {
            "text/plain": [
              "3"
            ]
          },
          "metadata": {
            "tags": []
          },
          "execution_count": 2
        }
      ]
    },
    {
      "cell_type": "markdown",
      "metadata": {
        "id": "RjBHagGPkntA",
        "colab_type": "text"
      },
      "source": [
        "**Ex 01:** Na celula abaixo insira uma **adição** e depois clique no botão \"Run\":"
      ]
    },
    {
      "cell_type": "code",
      "metadata": {
        "id": "fvQun13GkntE",
        "colab_type": "code",
        "colab": {
          "base_uri": "https://localhost:8080/",
          "height": 34
        },
        "outputId": "6db0fa9e-68a4-4f45-e0b3-3d5b54fda4f1"
      },
      "source": [
        "5+4\n"
      ],
      "execution_count": 1,
      "outputs": [
        {
          "output_type": "execute_result",
          "data": {
            "text/plain": [
              "9"
            ]
          },
          "metadata": {
            "tags": []
          },
          "execution_count": 1
        }
      ]
    },
    {
      "cell_type": "markdown",
      "metadata": {
        "id": "og8pv8Isknti",
        "colab_type": "text"
      },
      "source": [
        "#### 01.2) Subtração           (-)"
      ]
    },
    {
      "cell_type": "code",
      "metadata": {
        "id": "wRODeSEokntm",
        "colab_type": "code",
        "colab": {
          "base_uri": "https://localhost:8080/",
          "height": 34
        },
        "outputId": "6ee163c0-1130-4c97-c91a-88e1e3a25171"
      },
      "source": [
        "5-2"
      ],
      "execution_count": 2,
      "outputs": [
        {
          "output_type": "execute_result",
          "data": {
            "text/plain": [
              "3"
            ]
          },
          "metadata": {
            "tags": []
          },
          "execution_count": 2
        }
      ]
    },
    {
      "cell_type": "markdown",
      "metadata": {
        "id": "hTKg7p8hknt8",
        "colab_type": "text"
      },
      "source": [
        "**Ex 02:** Na celula abaixo insira uma **subtração** e depois clique no botão \"Run\":"
      ]
    },
    {
      "cell_type": "code",
      "metadata": {
        "id": "4CwYWNkPknua",
        "colab_type": "code",
        "colab": {
          "base_uri": "https://localhost:8080/",
          "height": 34
        },
        "outputId": "2f8b1eb5-f2fd-480f-fd37-2e53844343bd"
      },
      "source": [
        "9-10"
      ],
      "execution_count": 3,
      "outputs": [
        {
          "output_type": "execute_result",
          "data": {
            "text/plain": [
              "-1"
            ]
          },
          "metadata": {
            "tags": []
          },
          "execution_count": 3
        }
      ]
    },
    {
      "cell_type": "markdown",
      "metadata": {
        "id": "qt0VDHOXknu2",
        "colab_type": "text"
      },
      "source": [
        "#### 01.3) Multiplicação       (*)"
      ]
    },
    {
      "cell_type": "code",
      "metadata": {
        "id": "7UpXSuflknu_",
        "colab_type": "code",
        "colab": {
          "base_uri": "https://localhost:8080/",
          "height": 34
        },
        "outputId": "5322c960-9c71-4aca-b620-813c3f54dd73"
      },
      "source": [
        "3*5"
      ],
      "execution_count": 4,
      "outputs": [
        {
          "output_type": "execute_result",
          "data": {
            "text/plain": [
              "15"
            ]
          },
          "metadata": {
            "tags": []
          },
          "execution_count": 4
        }
      ]
    },
    {
      "cell_type": "markdown",
      "metadata": {
        "id": "jAm2h2tXknvU",
        "colab_type": "text"
      },
      "source": [
        "**Ex 03:** Na celula abaixo insira uma **multiplicação** e depois clique no botão \"Run\":"
      ]
    },
    {
      "cell_type": "code",
      "metadata": {
        "id": "84YEN2iJknvY",
        "colab_type": "code",
        "colab": {
          "base_uri": "https://localhost:8080/",
          "height": 34
        },
        "outputId": "399e7dca-414a-4a57-b634-09a847c84556"
      },
      "source": [
        "8*8"
      ],
      "execution_count": 5,
      "outputs": [
        {
          "output_type": "execute_result",
          "data": {
            "text/plain": [
              "64"
            ]
          },
          "metadata": {
            "tags": []
          },
          "execution_count": 5
        }
      ]
    },
    {
      "cell_type": "markdown",
      "metadata": {
        "id": "T-8Y1A_Uknvp",
        "colab_type": "text"
      },
      "source": [
        "#### 01.4) Divisão             (/)"
      ]
    },
    {
      "cell_type": "code",
      "metadata": {
        "id": "tGcgYo83knvr",
        "colab_type": "code",
        "colab": {
          "base_uri": "https://localhost:8080/",
          "height": 34
        },
        "outputId": "15d25fa6-0300-4a2e-be7b-eeab5abdfa17"
      },
      "source": [
        "20/4"
      ],
      "execution_count": 6,
      "outputs": [
        {
          "output_type": "execute_result",
          "data": {
            "text/plain": [
              "5.0"
            ]
          },
          "metadata": {
            "tags": []
          },
          "execution_count": 6
        }
      ]
    },
    {
      "cell_type": "markdown",
      "metadata": {
        "id": "zWWRwyO8knv-",
        "colab_type": "text"
      },
      "source": [
        "**Ex 04:** Na celula abaixo insira uma **divisão** e depois clique no botão \"Run\":"
      ]
    },
    {
      "cell_type": "code",
      "metadata": {
        "id": "mCptTCGdknwB",
        "colab_type": "code",
        "colab": {
          "base_uri": "https://localhost:8080/",
          "height": 34
        },
        "outputId": "47ed873b-2114-4611-a9fd-13fad237f5ad"
      },
      "source": [
        "90/10"
      ],
      "execution_count": 7,
      "outputs": [
        {
          "output_type": "execute_result",
          "data": {
            "text/plain": [
              "9.0"
            ]
          },
          "metadata": {
            "tags": []
          },
          "execution_count": 7
        }
      ]
    },
    {
      "cell_type": "markdown",
      "metadata": {
        "id": "sr2f5Uj1knwZ",
        "colab_type": "text"
      },
      "source": [
        "#### 01.5) Potência            (**)"
      ]
    },
    {
      "cell_type": "code",
      "metadata": {
        "id": "IzZSeV8aknwg",
        "colab_type": "code",
        "colab": {
          "base_uri": "https://localhost:8080/",
          "height": 34
        },
        "outputId": "7bbca7a3-8c1c-4c07-e4af-da787be80cbf"
      },
      "source": [
        "2**3"
      ],
      "execution_count": 8,
      "outputs": [
        {
          "output_type": "execute_result",
          "data": {
            "text/plain": [
              "8"
            ]
          },
          "metadata": {
            "tags": []
          },
          "execution_count": 8
        }
      ]
    },
    {
      "cell_type": "markdown",
      "metadata": {
        "id": "wb9K9TeXknwz",
        "colab_type": "text"
      },
      "source": [
        "**Ex 05:** Na celula abaixo insira uma operação **potência** e depois clique no botão \"Run\":"
      ]
    },
    {
      "cell_type": "code",
      "metadata": {
        "id": "UPLuQZgKknxQ",
        "colab_type": "code",
        "colab": {
          "base_uri": "https://localhost:8080/",
          "height": 34
        },
        "outputId": "c596c28f-36d7-4bd5-bff8-af423bb3f3ec"
      },
      "source": [
        "6**6"
      ],
      "execution_count": 9,
      "outputs": [
        {
          "output_type": "execute_result",
          "data": {
            "text/plain": [
              "46656"
            ]
          },
          "metadata": {
            "tags": []
          },
          "execution_count": 9
        }
      ]
    },
    {
      "cell_type": "markdown",
      "metadata": {
        "id": "E_UEEqHkknxg",
        "colab_type": "text"
      },
      "source": [
        "#### 01.6) Resto               (%)"
      ]
    },
    {
      "cell_type": "code",
      "metadata": {
        "id": "ETdOfenNknxj",
        "colab_type": "code",
        "colab": {
          "base_uri": "https://localhost:8080/",
          "height": 34
        },
        "outputId": "8629102f-4a04-4077-80c1-d269170ee937"
      },
      "source": [
        "10%3"
      ],
      "execution_count": 10,
      "outputs": [
        {
          "output_type": "execute_result",
          "data": {
            "text/plain": [
              "1"
            ]
          },
          "metadata": {
            "tags": []
          },
          "execution_count": 10
        }
      ]
    },
    {
      "cell_type": "markdown",
      "metadata": {
        "id": "2BdGAoe4knx2",
        "colab_type": "text"
      },
      "source": [
        "**Ex 06:** Na celula abaixo insira uma operação **resto** e depois clique no botão \"Run\":"
      ]
    },
    {
      "cell_type": "code",
      "metadata": {
        "id": "_Een3Q9Sknx6",
        "colab_type": "code",
        "colab": {
          "base_uri": "https://localhost:8080/",
          "height": 34
        },
        "outputId": "1db90fe1-ebb7-4cac-ad4c-bbb63559a4e8"
      },
      "source": [
        "5%3"
      ],
      "execution_count": 11,
      "outputs": [
        {
          "output_type": "execute_result",
          "data": {
            "text/plain": [
              "2"
            ]
          },
          "metadata": {
            "tags": []
          },
          "execution_count": 11
        }
      ]
    },
    {
      "cell_type": "markdown",
      "metadata": {
        "id": "nCthHNtskny2",
        "colab_type": "text"
      },
      "source": [
        "#### 01.7) Comentário          (#)"
      ]
    },
    {
      "cell_type": "code",
      "metadata": {
        "id": "xbavkrPEkny7",
        "colab_type": "code",
        "colab": {}
      },
      "source": [
        "# Este é um comentário"
      ],
      "execution_count": 12,
      "outputs": []
    },
    {
      "cell_type": "markdown",
      "metadata": {
        "id": "AXAzxwW4knzN",
        "colab_type": "text"
      },
      "source": [
        "Note que rodar este exemplo não retorna nenhum valor, por se tratar de um comentário"
      ]
    },
    {
      "cell_type": "markdown",
      "metadata": {
        "id": "otm3-TsyknzQ",
        "colab_type": "text"
      },
      "source": [
        "**Ex 07:** Na celula abaixo insira um **comentário** e depois clique no botão \"Run\":"
      ]
    },
    {
      "cell_type": "code",
      "metadata": {
        "id": "ILBd6sNqknzT",
        "colab_type": "code",
        "colab": {}
      },
      "source": [
        "#fique em casa"
      ],
      "execution_count": 15,
      "outputs": []
    },
    {
      "cell_type": "markdown",
      "metadata": {
        "id": "5WxLQ7Euknz4",
        "colab_type": "text"
      },
      "source": [
        "## 02) Print\n",
        "A função `print` é normalmente utilizada para amostrar uma *string* (cadeia de caracteres):"
      ]
    },
    {
      "cell_type": "code",
      "metadata": {
        "id": "eNsUw-1qkn0A",
        "colab_type": "code",
        "colab": {
          "base_uri": "https://localhost:8080/",
          "height": 34
        },
        "outputId": "de1cfde5-7512-4dda-f16f-15d5c39fdf78"
      },
      "source": [
        "print(\"Olá Mundo\")"
      ],
      "execution_count": 16,
      "outputs": [
        {
          "output_type": "stream",
          "text": [
            "Olá Mundo\n"
          ],
          "name": "stdout"
        }
      ]
    },
    {
      "cell_type": "markdown",
      "metadata": {
        "id": "n_8YEXIdkn0U",
        "colab_type": "text"
      },
      "source": [
        "#### Função:\n",
        "A ideia básica de uma função, é encapsular um código que poderá ser invocado/chamado por qualquer outro trecho do programa. Seu significado e uso é muito parecido com o de funções matemáticas, ou seja, existe um nome, uma definição e posterior invocação à função."
      ]
    },
    {
      "cell_type": "markdown",
      "metadata": {
        "id": "2LT2oCdckn0Z",
        "colab_type": "text"
      },
      "source": [
        "**Ex 08:** escreva um código que amostra o seu nome e depois clique no botão \"Run\":"
      ]
    },
    {
      "cell_type": "code",
      "metadata": {
        "id": "lON1CTqxkn0c",
        "colab_type": "code",
        "colab": {
          "base_uri": "https://localhost:8080/",
          "height": 34
        },
        "outputId": "a4761469-755c-48dc-f680-d3e8ad1b2dda"
      },
      "source": [
        "print(\"joaquim\")"
      ],
      "execution_count": 18,
      "outputs": [
        {
          "output_type": "stream",
          "text": [
            "joaquim\n"
          ],
          "name": "stdout"
        }
      ]
    },
    {
      "cell_type": "markdown",
      "metadata": {
        "id": "GxgpSRuQkn0u",
        "colab_type": "text"
      },
      "source": [
        "## 03) Variáveis\n",
        "Variáveis são **\"objetos\"** que você cria e armazena informação \n",
        "\n",
        "Voçê pode definir variáveis usando o símbolo igual (=):"
      ]
    },
    {
      "cell_type": "code",
      "metadata": {
        "id": "bWO3LfIhkn0x",
        "colab_type": "code",
        "colab": {
          "base_uri": "https://localhost:8080/",
          "height": 34
        },
        "outputId": "8bf4be2b-75a7-407d-9eac-707dc2794c3f"
      },
      "source": [
        "x = 10\n",
        "print(x)"
      ],
      "execution_count": 19,
      "outputs": [
        {
          "output_type": "stream",
          "text": [
            "10\n"
          ],
          "name": "stdout"
        }
      ]
    },
    {
      "cell_type": "markdown",
      "metadata": {
        "id": "ymB0G70Akn1D",
        "colab_type": "text"
      },
      "source": [
        "a variável criada acima é conhecida como **integer** que quer dizer numero inteiro"
      ]
    },
    {
      "cell_type": "code",
      "metadata": {
        "id": "A2t_qLp3kn1P",
        "colab_type": "code",
        "colab": {
          "base_uri": "https://localhost:8080/",
          "height": 34
        },
        "outputId": "e659a47e-1b8f-43e7-b9d7-a049d5039450"
      },
      "source": [
        "x"
      ],
      "execution_count": 20,
      "outputs": [
        {
          "output_type": "execute_result",
          "data": {
            "text/plain": [
              "10"
            ]
          },
          "metadata": {
            "tags": []
          },
          "execution_count": 20
        }
      ]
    },
    {
      "cell_type": "markdown",
      "metadata": {
        "id": "aSyl_CrAkn1d",
        "colab_type": "text"
      },
      "source": [
        "reparem na celula acima que outra forma de amostrar alguma variável é colocar ela em uma celula e rodar"
      ]
    },
    {
      "cell_type": "code",
      "metadata": {
        "id": "ySRjNziEkn1f",
        "colab_type": "code",
        "colab": {}
      },
      "source": [
        "texto = \"Olá mundo\"\n",
        "print(texto)"
      ],
      "execution_count": null,
      "outputs": []
    },
    {
      "cell_type": "markdown",
      "metadata": {
        "id": "kDDGI-Fgkn1w",
        "colab_type": "text"
      },
      "source": [
        "a variável criada acima é conhecida como **string** que significa texto ou cadeia de caracteres"
      ]
    },
    {
      "cell_type": "markdown",
      "metadata": {
        "id": "DLDJyzqLkn14",
        "colab_type": "text"
      },
      "source": [
        "**Ex 09:** escreva um código que armazena o seu nome em uma variável e depois amostra a variável criada."
      ]
    },
    {
      "cell_type": "code",
      "metadata": {
        "id": "z2phDiUJkn16",
        "colab_type": "code",
        "colab": {
          "base_uri": "https://localhost:8080/",
          "height": 34
        },
        "outputId": "dcd8e687-3bd6-4a41-8c48-1b109a19c5b1"
      },
      "source": [
        "gato=\"joaquim\"\n",
        "print(gato)"
      ],
      "execution_count": 21,
      "outputs": [
        {
          "output_type": "stream",
          "text": [
            "joaquim\n"
          ],
          "name": "stdout"
        }
      ]
    },
    {
      "cell_type": "markdown",
      "metadata": {
        "id": "V_r5ONW3kn2R",
        "colab_type": "text"
      },
      "source": [
        "## 04) Tipos de variáveis\n",
        "Vamos apresentar as quatro principais variáveis que utilizamos em um código:\n",
        "- Integer\n",
        "- Float\n",
        "- String\n",
        "- Boolean\n",
        "\n",
        "### 04.1) Integer & Float\n",
        "para trabalhar com numeros temos dois tipos de variáveis, os numeros inteiros ou **integer** e os numeros reais ou **float**, "
      ]
    },
    {
      "cell_type": "code",
      "metadata": {
        "id": "6l_QFGOKkn2W",
        "colab_type": "code",
        "colab": {
          "base_uri": "https://localhost:8080/",
          "height": 34
        },
        "outputId": "f0d3082e-d710-4234-e469-e1c4eefbfca1"
      },
      "source": [
        "numero_01 = 1 # exemplo de inteiro\n",
        "numero_01"
      ],
      "execution_count": 23,
      "outputs": [
        {
          "output_type": "execute_result",
          "data": {
            "text/plain": [
              "1"
            ]
          },
          "metadata": {
            "tags": []
          },
          "execution_count": 23
        }
      ]
    },
    {
      "cell_type": "code",
      "metadata": {
        "id": "PHjQ584Ykn2s",
        "colab_type": "code",
        "colab": {
          "base_uri": "https://localhost:8080/",
          "height": 34
        },
        "outputId": "bb1d58c3-280e-449c-b1a2-fae727e1ee89"
      },
      "source": [
        "numero_02 = 1.0 # exemplo de float\n",
        "numero_02"
      ],
      "execution_count": 24,
      "outputs": [
        {
          "output_type": "execute_result",
          "data": {
            "text/plain": [
              "1.0"
            ]
          },
          "metadata": {
            "tags": []
          },
          "execution_count": 24
        }
      ]
    },
    {
      "cell_type": "markdown",
      "metadata": {
        "id": "W8uTY-eikn29",
        "colab_type": "text"
      },
      "source": [
        "reparem que ao colocar um ponto no final do numero automaticamente eu tranformo ele num número real."
      ]
    },
    {
      "cell_type": "code",
      "metadata": {
        "id": "tQlBM3F-kn2_",
        "colab_type": "code",
        "colab": {
          "base_uri": "https://localhost:8080/",
          "height": 34
        },
        "outputId": "30899535-43d1-4740-ebb4-01c879b75147"
      },
      "source": [
        "x = 10/3\n",
        "x"
      ],
      "execution_count": 25,
      "outputs": [
        {
          "output_type": "execute_result",
          "data": {
            "text/plain": [
              "3.3333333333333335"
            ]
          },
          "metadata": {
            "tags": []
          },
          "execution_count": 25
        }
      ]
    },
    {
      "cell_type": "markdown",
      "metadata": {
        "id": "qP6pZGFzkn3M",
        "colab_type": "text"
      },
      "source": [
        "### 04.2) Função int() e float()\n",
        "para tranformar uma variável em inteiro utilizamos a função **int()** e para transformar em um numero real utilizamos a função **float()**"
      ]
    },
    {
      "cell_type": "code",
      "metadata": {
        "id": "PIaW1rLFkn3O",
        "colab_type": "code",
        "colab": {
          "base_uri": "https://localhost:8080/",
          "height": 34
        },
        "outputId": "f511ded9-570a-4655-dd5d-b098cadf0ab4"
      },
      "source": [
        "int(2.3)"
      ],
      "execution_count": 26,
      "outputs": [
        {
          "output_type": "execute_result",
          "data": {
            "text/plain": [
              "2"
            ]
          },
          "metadata": {
            "tags": []
          },
          "execution_count": 26
        }
      ]
    },
    {
      "cell_type": "code",
      "metadata": {
        "id": "MBf7mBpgkn3h",
        "colab_type": "code",
        "colab": {
          "base_uri": "https://localhost:8080/",
          "height": 34
        },
        "outputId": "fb8c1187-f7b4-45e9-cc36-47a91ac1796c"
      },
      "source": [
        "int(2.9)\n"
      ],
      "execution_count": 31,
      "outputs": [
        {
          "output_type": "execute_result",
          "data": {
            "text/plain": [
              "2"
            ]
          },
          "metadata": {
            "tags": []
          },
          "execution_count": 31
        }
      ]
    },
    {
      "cell_type": "code",
      "metadata": {
        "id": "0fG9isD4kn34",
        "colab_type": "code",
        "colab": {
          "base_uri": "https://localhost:8080/",
          "height": 34
        },
        "outputId": "f91d0d09-c997-4946-c1e7-f255eefd1869"
      },
      "source": [
        "float(2)"
      ],
      "execution_count": 28,
      "outputs": [
        {
          "output_type": "execute_result",
          "data": {
            "text/plain": [
              "2.0"
            ]
          },
          "metadata": {
            "tags": []
          },
          "execution_count": 28
        }
      ]
    },
    {
      "cell_type": "markdown",
      "metadata": {
        "id": "C5HT6nsbkn4E",
        "colab_type": "text"
      },
      "source": [
        "reparem que observamos um erro ao tentar transformar uma cadeia de caracteres em um numero inteiro."
      ]
    },
    {
      "cell_type": "markdown",
      "metadata": {
        "id": "7RobUcFBkn4H",
        "colab_type": "text"
      },
      "source": [
        "### 04.2) Função type()\n",
        "para saber qual o tipo da variável utilizamos a função **type()** "
      ]
    },
    {
      "cell_type": "code",
      "metadata": {
        "id": "eIfBenLMkn4J",
        "colab_type": "code",
        "colab": {
          "base_uri": "https://localhost:8080/",
          "height": 34
        },
        "outputId": "782be1fe-c7b3-4afa-d698-6597822efddb"
      },
      "source": [
        "type(2)"
      ],
      "execution_count": 32,
      "outputs": [
        {
          "output_type": "execute_result",
          "data": {
            "text/plain": [
              "int"
            ]
          },
          "metadata": {
            "tags": []
          },
          "execution_count": 32
        }
      ]
    },
    {
      "cell_type": "code",
      "metadata": {
        "id": "rhNfQZCAkn4V",
        "colab_type": "code",
        "colab": {
          "base_uri": "https://localhost:8080/",
          "height": 34
        },
        "outputId": "52cd2c6b-7b2a-4b21-fd49-ed91c7e36936"
      },
      "source": [
        "type(1.2)"
      ],
      "execution_count": 33,
      "outputs": [
        {
          "output_type": "execute_result",
          "data": {
            "text/plain": [
              "float"
            ]
          },
          "metadata": {
            "tags": []
          },
          "execution_count": 33
        }
      ]
    },
    {
      "cell_type": "markdown",
      "metadata": {
        "id": "-rHTOLZlkn4l",
        "colab_type": "text"
      },
      "source": [
        "**Ex 10:** escreva um código que armazena um numero real em uma variável e depois amostra o tipo da variável criada."
      ]
    },
    {
      "cell_type": "code",
      "metadata": {
        "id": "_LV1zO1dkn4n",
        "colab_type": "code",
        "colab": {
          "base_uri": "https://localhost:8080/",
          "height": 34
        },
        "outputId": "063e86fd-bd4f-4247-e745-8600f2e729b0"
      },
      "source": [
        "x=8.0\n",
        "type(x)"
      ],
      "execution_count": 35,
      "outputs": [
        {
          "output_type": "execute_result",
          "data": {
            "text/plain": [
              "float"
            ]
          },
          "metadata": {
            "tags": []
          },
          "execution_count": 35
        }
      ]
    },
    {
      "cell_type": "markdown",
      "metadata": {
        "id": "o0XBkalskn47",
        "colab_type": "text"
      },
      "source": [
        "### 04.3) Strings\n",
        "O tipo de variável que utilizamos para trabalhar com texto é conhecida como **string**."
      ]
    },
    {
      "cell_type": "markdown",
      "metadata": {
        "id": "f9ZJdoVTkn5B",
        "colab_type": "text"
      },
      "source": [
        "**Ex 11:** escreva um código que armazena um texto em uma variável, depois amostra o tipo da variável criada."
      ]
    },
    {
      "cell_type": "code",
      "metadata": {
        "id": "ZaEBa0hXkn5D",
        "colab_type": "code",
        "colab": {
          "base_uri": "https://localhost:8080/",
          "height": 34
        },
        "outputId": "a1b8dd05-e018-40ca-d607-03df663a5605"
      },
      "source": [
        "x=\"joaquim\"\n",
        "type(x)"
      ],
      "execution_count": 49,
      "outputs": [
        {
          "output_type": "execute_result",
          "data": {
            "text/plain": [
              "str"
            ]
          },
          "metadata": {
            "tags": []
          },
          "execution_count": 49
        }
      ]
    },
    {
      "cell_type": "markdown",
      "metadata": {
        "id": "Mj0tvOREkn5Q",
        "colab_type": "text"
      },
      "source": [
        "### 04.4) Função str()\n",
        "para converter uma variável em **string** utilizamos a função **str()** "
      ]
    },
    {
      "cell_type": "code",
      "metadata": {
        "id": "nJsi6jVMkn5S",
        "colab_type": "code",
        "colab": {
          "base_uri": "https://localhost:8080/",
          "height": 34
        },
        "outputId": "3ad6c2cd-9e4d-4488-a8ee-0f8dc4045309"
      },
      "source": [
        "x = 1\n",
        "type(x)"
      ],
      "execution_count": 50,
      "outputs": [
        {
          "output_type": "execute_result",
          "data": {
            "text/plain": [
              "int"
            ]
          },
          "metadata": {
            "tags": []
          },
          "execution_count": 50
        }
      ]
    },
    {
      "cell_type": "code",
      "metadata": {
        "id": "SQEM5VECkn5j",
        "colab_type": "code",
        "colab": {
          "base_uri": "https://localhost:8080/",
          "height": 34
        },
        "outputId": "f2024ace-b3e5-46f3-eb0f-80a6ba5e60e3"
      },
      "source": [
        "y = str(x)\n",
        "type(y)"
      ],
      "execution_count": 51,
      "outputs": [
        {
          "output_type": "execute_result",
          "data": {
            "text/plain": [
              "str"
            ]
          },
          "metadata": {
            "tags": []
          },
          "execution_count": 51
        }
      ]
    },
    {
      "cell_type": "markdown",
      "metadata": {
        "id": "G8thxrSBkn50",
        "colab_type": "text"
      },
      "source": [
        "**Ex 12:** escreva um código que armazena um **float** ou numero real em uma variável e depois converte em uma **string** ou texto."
      ]
    },
    {
      "cell_type": "code",
      "metadata": {
        "id": "t3lgHj2_kn52",
        "colab_type": "code",
        "colab": {
          "base_uri": "https://localhost:8080/",
          "height": 34
        },
        "outputId": "d6cf0633-dc74-443a-f64e-fe3c725cf68c"
      },
      "source": [
        "x=1.0\n",
        "str(x)"
      ],
      "execution_count": 56,
      "outputs": [
        {
          "output_type": "execute_result",
          "data": {
            "text/plain": [
              "'1.0'"
            ]
          },
          "metadata": {
            "tags": []
          },
          "execution_count": 56
        }
      ]
    },
    {
      "cell_type": "markdown",
      "metadata": {
        "id": "D1o6ZxMYkn6E",
        "colab_type": "text"
      },
      "source": [
        "### 04.5) Trabalhando com strings\n",
        "#### 04.5.1) Concatenar +"
      ]
    },
    {
      "cell_type": "code",
      "metadata": {
        "id": "fRDPxf3Okn6G",
        "colab_type": "code",
        "colab": {
          "base_uri": "https://localhost:8080/",
          "height": 34
        },
        "outputId": "f550521b-034a-4c06-af40-c008555a971f"
      },
      "source": [
        "'a' + 'b'"
      ],
      "execution_count": 57,
      "outputs": [
        {
          "output_type": "execute_result",
          "data": {
            "text/plain": [
              "'ab'"
            ]
          },
          "metadata": {
            "tags": []
          },
          "execution_count": 57
        }
      ]
    },
    {
      "cell_type": "markdown",
      "metadata": {
        "id": "7gUOo_rckn64",
        "colab_type": "text"
      },
      "source": [
        "**Ex 13:** escreva um código que armazena o seu primeiro nome em uma variável e o seu sobrenome em outra variável e depois amostra o seu nome concatenado com o seu sobrenome, contendo um espaço entre eles, armazenando em uma terceira variável."
      ]
    },
    {
      "cell_type": "code",
      "metadata": {
        "id": "g-Bwz8lPkn66",
        "colab_type": "code",
        "colab": {
          "base_uri": "https://localhost:8080/",
          "height": 34
        },
        "outputId": "f65bc975-afb6-4840-dc9d-b8d48d5eceef"
      },
      "source": [
        "a='joaquim '\n",
        "b='sucupira'\n",
        "str(a+b)"
      ],
      "execution_count": 65,
      "outputs": [
        {
          "output_type": "execute_result",
          "data": {
            "text/plain": [
              "'joaquim sucupira'"
            ]
          },
          "metadata": {
            "tags": []
          },
          "execution_count": 65
        }
      ]
    },
    {
      "cell_type": "markdown",
      "metadata": {
        "id": "qebsWO6Qkn7L",
        "colab_type": "text"
      },
      "source": [
        "#### 04.5.2) Tamanho len()"
      ]
    },
    {
      "cell_type": "code",
      "metadata": {
        "id": "WOADuTQjkn7N",
        "colab_type": "code",
        "colab": {
          "base_uri": "https://localhost:8080/",
          "height": 34
        },
        "outputId": "87f9bba3-0012-4b33-c593-d06862b36221"
      },
      "source": [
        "len('abc')"
      ],
      "execution_count": 66,
      "outputs": [
        {
          "output_type": "execute_result",
          "data": {
            "text/plain": [
              "3"
            ]
          },
          "metadata": {
            "tags": []
          },
          "execution_count": 66
        }
      ]
    },
    {
      "cell_type": "markdown",
      "metadata": {
        "id": "IjvgPCmskn74",
        "colab_type": "text"
      },
      "source": [
        "**Ex 14:** escreva um código que amostra o tamanho do texto gerano no **Ex 13**."
      ]
    },
    {
      "cell_type": "code",
      "metadata": {
        "id": "RT0rT73ukn7-",
        "colab_type": "code",
        "colab": {
          "base_uri": "https://localhost:8080/",
          "height": 34
        },
        "outputId": "60eb083c-eabe-4d84-f30a-d3500e0655b1"
      },
      "source": [
        "len (a)"
      ],
      "execution_count": 69,
      "outputs": [
        {
          "output_type": "execute_result",
          "data": {
            "text/plain": [
              "8"
            ]
          },
          "metadata": {
            "tags": []
          },
          "execution_count": 69
        }
      ]
    },
    {
      "cell_type": "markdown",
      "metadata": {
        "id": "TEm_0C5-kn8W",
        "colab_type": "text"
      },
      "source": [
        "#### 04.5.3) Posição []"
      ]
    },
    {
      "cell_type": "code",
      "metadata": {
        "id": "3E3qar51kn8Y",
        "colab_type": "code",
        "colab": {
          "base_uri": "https://localhost:8080/",
          "height": 34
        },
        "outputId": "2b6a1e10-595f-4859-a162-634a4a84e40b"
      },
      "source": [
        "texto = 'AaBbCcDdEe'\n",
        "texto[0]"
      ],
      "execution_count": 70,
      "outputs": [
        {
          "output_type": "execute_result",
          "data": {
            "text/plain": [
              "'A'"
            ]
          },
          "metadata": {
            "tags": []
          },
          "execution_count": 70
        }
      ]
    },
    {
      "cell_type": "code",
      "metadata": {
        "id": "zPDpDpTqkn87",
        "colab_type": "code",
        "colab": {
          "base_uri": "https://localhost:8080/",
          "height": 34
        },
        "outputId": "b3dc49ee-bbb7-4a80-d6a3-cd6f549d3400"
      },
      "source": [
        "texto[2:4]"
      ],
      "execution_count": 71,
      "outputs": [
        {
          "output_type": "execute_result",
          "data": {
            "text/plain": [
              "'Bb'"
            ]
          },
          "metadata": {
            "tags": []
          },
          "execution_count": 71
        }
      ]
    },
    {
      "cell_type": "markdown",
      "metadata": {
        "id": "KI8MOsf2kn9T",
        "colab_type": "text"
      },
      "source": [
        "**Ex 15:** escreva um código que amostra um intervalo qualquer de tamanho 3 do texto gerado no **Ex 13**."
      ]
    },
    {
      "cell_type": "code",
      "metadata": {
        "id": "j3DYjugzkn9W",
        "colab_type": "code",
        "colab": {}
      },
      "source": [
        ""
      ],
      "execution_count": null,
      "outputs": []
    },
    {
      "cell_type": "markdown",
      "metadata": {
        "id": "d6WQxKqRkn9j",
        "colab_type": "text"
      },
      "source": [
        "#### 04.5.4) Substituir .replace()"
      ]
    },
    {
      "cell_type": "code",
      "metadata": {
        "id": "RcYOSCnpkn9l",
        "colab_type": "code",
        "colab": {}
      },
      "source": [
        "texto.replace('c','j')"
      ],
      "execution_count": null,
      "outputs": []
    },
    {
      "cell_type": "markdown",
      "metadata": {
        "id": "j1G3dfC2kn-D",
        "colab_type": "text"
      },
      "source": [
        "**Ex 16:** escreva um código que utilize o texto gerado no **Ex 13**, substituindo o seu sobrenome por outro texto."
      ]
    },
    {
      "cell_type": "code",
      "metadata": {
        "id": "LRtLJzvpkn-F",
        "colab_type": "code",
        "colab": {}
      },
      "source": [
        ""
      ],
      "execution_count": null,
      "outputs": []
    },
    {
      "cell_type": "markdown",
      "metadata": {
        "id": "lvlfz5fUkn-R",
        "colab_type": "text"
      },
      "source": [
        "#### 04.5.5) Encontrar .find()"
      ]
    },
    {
      "cell_type": "code",
      "metadata": {
        "id": "VAwtosPskn-T",
        "colab_type": "code",
        "colab": {}
      },
      "source": [
        "texto.find('b')"
      ],
      "execution_count": null,
      "outputs": []
    },
    {
      "cell_type": "markdown",
      "metadata": {
        "id": "qSEbDL4Ekn-j",
        "colab_type": "text"
      },
      "source": [
        "**Ex 17:** escreva um código que utilize o texto gerado no **Ex 13**, buscando a localização do espaço \" \" ."
      ]
    },
    {
      "cell_type": "code",
      "metadata": {
        "id": "gEFKZKEYkn-l",
        "colab_type": "code",
        "colab": {}
      },
      "source": [
        ""
      ],
      "execution_count": null,
      "outputs": []
    },
    {
      "cell_type": "markdown",
      "metadata": {
        "id": "Bhn4i2Qlkn_d",
        "colab_type": "text"
      },
      "source": [
        "#### 04.5.6) Contar .count()"
      ]
    },
    {
      "cell_type": "code",
      "metadata": {
        "id": "4UsG1Gt0kn_f",
        "colab_type": "code",
        "colab": {}
      },
      "source": [
        "texto.count('A')"
      ],
      "execution_count": null,
      "outputs": []
    },
    {
      "cell_type": "markdown",
      "metadata": {
        "id": "fYIZCaJUkn_w",
        "colab_type": "text"
      },
      "source": [
        "**Ex 18:** escreva um código que utilize o texto gerado no **Ex 13**, contando quantos caracteres tem nele."
      ]
    },
    {
      "cell_type": "code",
      "metadata": {
        "id": "gGwKDIeskn_x",
        "colab_type": "code",
        "colab": {}
      },
      "source": [
        ""
      ],
      "execution_count": null,
      "outputs": []
    },
    {
      "cell_type": "markdown",
      "metadata": {
        "id": "OQziHyYBkoDK",
        "colab_type": "text"
      },
      "source": [
        "#### 04.5.7) MAIÚSCULO .upper()"
      ]
    },
    {
      "cell_type": "code",
      "metadata": {
        "id": "sO47l-GtkoDW",
        "colab_type": "code",
        "colab": {}
      },
      "source": [
        "texto.upper()"
      ],
      "execution_count": null,
      "outputs": []
    },
    {
      "cell_type": "markdown",
      "metadata": {
        "id": "h6ic96FHkoEg",
        "colab_type": "text"
      },
      "source": [
        "**Ex 19:** escreva um código que utilize o texto gerado no **Ex 13**, transformando tudo em maiúculo."
      ]
    },
    {
      "cell_type": "code",
      "metadata": {
        "id": "i7FmO7FdkoEh",
        "colab_type": "code",
        "colab": {}
      },
      "source": [
        ""
      ],
      "execution_count": null,
      "outputs": []
    },
    {
      "cell_type": "markdown",
      "metadata": {
        "id": "gkW1p_GOkoEz",
        "colab_type": "text"
      },
      "source": [
        "#### 04.5.8) minúsculo .lower()"
      ]
    },
    {
      "cell_type": "code",
      "metadata": {
        "id": "VXI1KGrnkoE0",
        "colab_type": "code",
        "colab": {}
      },
      "source": [
        "texto.lower()"
      ],
      "execution_count": null,
      "outputs": []
    },
    {
      "cell_type": "markdown",
      "metadata": {
        "id": "jp67auKXkoE9",
        "colab_type": "text"
      },
      "source": [
        "**Ex 20:** escreva um código que utilize o texto gerado no **Ex 13**, transformando tudo em minúsculo."
      ]
    },
    {
      "cell_type": "code",
      "metadata": {
        "id": "Y_8t0l7FkoE-",
        "colab_type": "code",
        "colab": {}
      },
      "source": [
        ""
      ],
      "execution_count": null,
      "outputs": []
    },
    {
      "cell_type": "markdown",
      "metadata": {
        "id": "FwhY0XWgkoFM",
        "colab_type": "text"
      },
      "source": [
        "#### 04.5.9) Capitalizar .capitalize()"
      ]
    },
    {
      "cell_type": "code",
      "metadata": {
        "id": "ReqjpyJPkoFO",
        "colab_type": "code",
        "colab": {}
      },
      "source": [
        "texto.capitalize()"
      ],
      "execution_count": null,
      "outputs": []
    },
    {
      "cell_type": "markdown",
      "metadata": {
        "id": "ci9oJrn7koFW",
        "colab_type": "text"
      },
      "source": [
        "**Ex 21:** escreva um código que utilize o texto gerado no **Ex 13**, capitalizando."
      ]
    },
    {
      "cell_type": "code",
      "metadata": {
        "id": "oK8XG_zNkoFY",
        "colab_type": "code",
        "colab": {}
      },
      "source": [
        ""
      ],
      "execution_count": null,
      "outputs": []
    },
    {
      "cell_type": "markdown",
      "metadata": {
        "id": "IP48I_2HkoFh",
        "colab_type": "text"
      },
      "source": [
        "### 04.6) Booleano\n",
        "Para trabalhar com lógicas, verdadeiro e falso, utilizamos as variáveis booleanas"
      ]
    },
    {
      "cell_type": "code",
      "metadata": {
        "id": "BRgV6zFakoFj",
        "colab_type": "code",
        "colab": {}
      },
      "source": [
        "x = True\n",
        "print(x)"
      ],
      "execution_count": null,
      "outputs": []
    },
    {
      "cell_type": "markdown",
      "metadata": {
        "id": "3cHIalNLkoFz",
        "colab_type": "text"
      },
      "source": [
        "**Ex 22:** Verifique qual é o tipo da variável **x**."
      ]
    },
    {
      "cell_type": "code",
      "metadata": {
        "id": "An2reJnukoF1",
        "colab_type": "code",
        "colab": {}
      },
      "source": [
        ""
      ],
      "execution_count": null,
      "outputs": []
    },
    {
      "cell_type": "code",
      "metadata": {
        "id": "NPxRO5BOkoGJ",
        "colab_type": "code",
        "colab": {}
      },
      "source": [
        "1 > 2"
      ],
      "execution_count": null,
      "outputs": []
    },
    {
      "cell_type": "code",
      "metadata": {
        "id": "bdfRPGVPkoGX",
        "colab_type": "code",
        "colab": {}
      },
      "source": [
        "x = 1\n",
        "x == 2"
      ],
      "execution_count": null,
      "outputs": []
    },
    {
      "cell_type": "code",
      "metadata": {
        "id": "Z6shgKeckoHO",
        "colab_type": "code",
        "colab": {}
      },
      "source": [
        "x == 1"
      ],
      "execution_count": null,
      "outputs": []
    },
    {
      "cell_type": "code",
      "metadata": {
        "id": "NGrhKAkpkoHX",
        "colab_type": "code",
        "colab": {}
      },
      "source": [
        "y = x == 1\n",
        "print(y)"
      ],
      "execution_count": null,
      "outputs": []
    },
    {
      "cell_type": "markdown",
      "metadata": {
        "id": "PIv7v9S4koHl",
        "colab_type": "text"
      },
      "source": [
        "**Ex 23:** Escreva um código que verifica se um número é igual ao mesmo número somado com 1."
      ]
    },
    {
      "cell_type": "code",
      "metadata": {
        "id": "EJFs9U_hkoHm",
        "colab_type": "code",
        "colab": {}
      },
      "source": [
        ""
      ],
      "execution_count": null,
      "outputs": []
    },
    {
      "cell_type": "markdown",
      "metadata": {
        "id": "63C9-1qJkoHu",
        "colab_type": "text"
      },
      "source": [
        "#### 04.6.1) Contém  => in"
      ]
    },
    {
      "cell_type": "code",
      "metadata": {
        "id": "z81pkNwQkoHy",
        "colab_type": "code",
        "colab": {}
      },
      "source": [
        "'a' in texto"
      ],
      "execution_count": null,
      "outputs": []
    },
    {
      "cell_type": "markdown",
      "metadata": {
        "id": "XpTPiRxMkoH8",
        "colab_type": "text"
      },
      "source": [
        "**Ex 24:** Escreva um código que verifica se a letra \"j\" contem no texto."
      ]
    },
    {
      "cell_type": "code",
      "metadata": {
        "id": "uM4RlSoukoH9",
        "colab_type": "code",
        "colab": {}
      },
      "source": [
        ""
      ],
      "execution_count": null,
      "outputs": []
    },
    {
      "cell_type": "markdown",
      "metadata": {
        "id": "EGwXjhGWkoIU",
        "colab_type": "text"
      },
      "source": [
        "## 05) Input\n",
        "Muitas vezes um código precisa de informações externas, como uma calculadora que pode receber sempre numeros diferentes. Para criar esta flexibilidade, utilizamos a função **input**, que traduzindo significa **entrada**."
      ]
    },
    {
      "cell_type": "code",
      "metadata": {
        "id": "op9oHNA9koIV",
        "colab_type": "code",
        "colab": {}
      },
      "source": [
        "texto_02 = input(\"insira um texto: \")\n",
        "print(texto_02)"
      ],
      "execution_count": null,
      "outputs": []
    },
    {
      "cell_type": "code",
      "metadata": {
        "id": "MryMJWZ2koIj",
        "colab_type": "code",
        "colab": {}
      },
      "source": [
        ""
      ],
      "execution_count": null,
      "outputs": []
    },
    {
      "cell_type": "markdown",
      "metadata": {
        "id": "igrdTlRRkoI3",
        "colab_type": "text"
      },
      "source": [
        "Atenção: todos os valores que a função **input** recebe são do tipo **string**, caso deseje trabalhar com numeros, deverá converter.\n",
        "Utilize o código abaixo para testar uma entrada de um numero somado com 1."
      ]
    },
    {
      "cell_type": "code",
      "metadata": {
        "id": "5gxCdEVQkoI7",
        "colab_type": "code",
        "colab": {}
      },
      "source": [
        "numero = input(\"insira um numero: \")\n",
        "numero = numero + 1"
      ],
      "execution_count": null,
      "outputs": []
    },
    {
      "cell_type": "markdown",
      "metadata": {
        "id": "IOcWZX4tkoJN",
        "colab_type": "text"
      },
      "source": [
        "O código acima irá apresentar um erro, pois não é possivel somar um **integer** com uma **string**"
      ]
    },
    {
      "cell_type": "markdown",
      "metadata": {
        "id": "729lora-koJP",
        "colab_type": "text"
      },
      "source": [
        "**Ex 25:** escreva um código que armazena um **input** em uma variável, converte ele em um numero real e por fim amostra ele."
      ]
    },
    {
      "cell_type": "code",
      "metadata": {
        "id": "-qxhB3u_koJQ",
        "colab_type": "code",
        "colab": {}
      },
      "source": [
        ""
      ],
      "execution_count": null,
      "outputs": []
    },
    {
      "cell_type": "markdown",
      "metadata": {
        "id": "3sdvdBCfkoJf",
        "colab_type": "text"
      },
      "source": [
        "**Ex 26:** Ajude a sua mãe na feira, escreva um código que:\n",
        "- recebe um input de quantidade de laranjas.\n",
        "- recebe um input de preço da laranja.\n",
        "- calcula o custo total.\n",
        "obs: deve aceitar valores reais e não inteiros."
      ]
    },
    {
      "cell_type": "code",
      "metadata": {
        "id": "8gJKfLMWkoJg",
        "colab_type": "code",
        "colab": {}
      },
      "source": [
        ""
      ],
      "execution_count": null,
      "outputs": []
    },
    {
      "cell_type": "markdown",
      "metadata": {
        "id": "tmnRyBnfkoLA",
        "colab_type": "text"
      },
      "source": [
        "## 06) Comparações -> IF / ELSE / ELIF\n",
        "\n",
        "Muitas vezes precisamos realizar comparações e para isso utilizamos o recurso IF."
      ]
    },
    {
      "cell_type": "markdown",
      "metadata": {
        "id": "invxzrJUkoLC",
        "colab_type": "text"
      },
      "source": [
        "Para utilizar o **if** precisamos colocar um booleano e dois pontos (:)"
      ]
    },
    {
      "cell_type": "code",
      "metadata": {
        "id": "FLxeHIqJkoLE",
        "colab_type": "code",
        "colab": {}
      },
      "source": [
        "numero = 3\n",
        "if numero > 2:\n",
        "    print('o número é maior que 2')"
      ],
      "execution_count": null,
      "outputs": []
    },
    {
      "cell_type": "markdown",
      "metadata": {
        "id": "ZFG9ubyokoLO",
        "colab_type": "text"
      },
      "source": [
        "Note que abaixo do **if** existe um espaço onde o código será rodado."
      ]
    },
    {
      "cell_type": "markdown",
      "metadata": {
        "id": "KpKwaUYmkoLQ",
        "colab_type": "text"
      },
      "source": [
        "Para utilizar o **else** não colocamos booleano, somente dois pontos (:)"
      ]
    },
    {
      "cell_type": "code",
      "metadata": {
        "id": "PLrDAv_9koLR",
        "colab_type": "code",
        "colab": {}
      },
      "source": [
        "numero = 2\n",
        "if numero > 2:\n",
        "    print('o número é maior que 2')\n",
        "else:\n",
        "    print('o número é menor ou igual a 2')"
      ],
      "execution_count": null,
      "outputs": []
    },
    {
      "cell_type": "markdown",
      "metadata": {
        "id": "4Mg0JtbMkoLi",
        "colab_type": "text"
      },
      "source": [
        "Para utilizar o **elif**  precisamos colocar um booleano e dois pontos (:)"
      ]
    },
    {
      "cell_type": "code",
      "metadata": {
        "id": "rc5Ix_IrkoLn",
        "colab_type": "code",
        "colab": {}
      },
      "source": [
        "numero = 1\n",
        "if numero > 2:\n",
        "    print('o número é maior que 2')\n",
        "elif numero < 2:\n",
        "    print('o número é menor que 2')"
      ],
      "execution_count": null,
      "outputs": []
    },
    {
      "cell_type": "markdown",
      "metadata": {
        "id": "L0ZFVd7wkoL9",
        "colab_type": "text"
      },
      "source": [
        "Ele irá entrar no primeiro que conseguir e não entrará nos demais."
      ]
    },
    {
      "cell_type": "code",
      "metadata": {
        "id": "c8f3dzpLkoMJ",
        "colab_type": "code",
        "colab": {}
      },
      "source": [
        "numero = 2\n",
        "if numero > 2:\n",
        "    print('o número é maior que 2')\n",
        "elif numero < 2:\n",
        "    print('o número é menor que 2')\n",
        "else:\n",
        "    print('o número não é maior nem menor que 2')"
      ],
      "execution_count": null,
      "outputs": []
    },
    {
      "cell_type": "markdown",
      "metadata": {
        "id": "apzMKOjxkoMT",
        "colab_type": "text"
      },
      "source": [
        "Exemplo para verificar se contem a letra 'a'"
      ]
    },
    {
      "cell_type": "code",
      "metadata": {
        "id": "WBUPXvtQkoMV",
        "colab_type": "code",
        "colab": {}
      },
      "source": [
        "texto = input('Insira um texto: ')\n",
        "if texto.count('a') > 0:\n",
        "    print('Esse texto contêm a letra a')"
      ],
      "execution_count": null,
      "outputs": []
    },
    {
      "cell_type": "markdown",
      "metadata": {
        "id": "FWlf9sDukoMh",
        "colab_type": "text"
      },
      "source": [
        "Dois exemplos verificando se é inteiro."
      ]
    },
    {
      "cell_type": "code",
      "metadata": {
        "id": "iZrj-UePkoMk",
        "colab_type": "code",
        "colab": {}
      },
      "source": [
        "variavel = 1.    # exemplo de inteiro\n",
        "\n",
        "if type(variavel) == int:\n",
        "    print('é um inteiro')\n",
        "else:\n",
        "    print('não é um inteiro')"
      ],
      "execution_count": null,
      "outputs": []
    },
    {
      "cell_type": "code",
      "metadata": {
        "id": "uMR4OVUMkoMr",
        "colab_type": "code",
        "colab": {}
      },
      "source": [
        "variavel = 'a'    # exemplo de string\n",
        "\n",
        "if type(variavel) == int:\n",
        "    print('é um inteiro')\n",
        "else:\n",
        "    print('não é um inteiro')"
      ],
      "execution_count": null,
      "outputs": []
    },
    {
      "cell_type": "markdown",
      "metadata": {
        "id": "_s3VPlJ5koM5",
        "colab_type": "text"
      },
      "source": [
        "Exemplo verificando qual é o tipo da variável, faça o exercício de alterar a variável para atingir todas as possibilidades."
      ]
    },
    {
      "cell_type": "code",
      "metadata": {
        "id": "nzyD0XxukoM7",
        "colab_type": "code",
        "colab": {}
      },
      "source": [
        "variavel = True    # exemplo de booleano\n",
        "\n",
        "if type(variavel) == str:\n",
        "    print('é uma string')\n",
        "elif type(variavel) == int:\n",
        "    print('é um inteiro')\n",
        "elif type(variavel) == float:\n",
        "    print('é um numero real')\n",
        "elif type(variavel) == bool:\n",
        "    print('é um booleano')\n",
        "else:\n",
        "    print('não sei o que é')"
      ],
      "execution_count": null,
      "outputs": []
    },
    {
      "cell_type": "markdown",
      "metadata": {
        "id": "ozD32t6BkoNF",
        "colab_type": "text"
      },
      "source": [
        "**Ex 27:** Escreva um código que:\n",
        "- Recebe um **input** de texto.\n",
        "- Mede o tamanho do texto e armazena em uma outra variável\n",
        "- Verifica se o tamanho é maior que 4, caso positivo amostra o tamanho dele.\n",
        "- Caso negativo amostra o próprio texto."
      ]
    },
    {
      "cell_type": "code",
      "metadata": {
        "id": "9YdvJ4kNkoNH",
        "colab_type": "code",
        "colab": {}
      },
      "source": [
        ""
      ],
      "execution_count": null,
      "outputs": []
    }
  ]
}